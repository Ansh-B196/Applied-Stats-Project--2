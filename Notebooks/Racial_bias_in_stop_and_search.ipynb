{
 "cells": [
  {
   "cell_type": "markdown",
   "id": "c66d3899",
   "metadata": {},
   "source": [
    "1. Import all the relevant libraries\n",
    "2. Drop all the unnecessary attributes\n",
    "3. Create all the necessary attributes\n",
    "4. How?\n",
    "    a. We have rows corresponding to a particular traffic stop, with attributes of race, date, time, etc.\n",
    "    b. Make a new dataset which has the attributes date, number of white subjects, number of african-american subjects\n",
    "    c. From now on, we do everything in this new dataset\n",
    "    d. Total population = 689,000 ; White population = 689000 x 0.56 = 385,000 ; African-American Population = 172,250\n",
    "    e. Stops per 1000 white people = (Number of white stops/white population)x1000\n",
    "    f. Stops per 1000 African-American people = (Number of African American stops/Aferican-American Population)x1000\n",
    "    g. These two are new attributes which we will use\n",
    "    h. Assume stops per 1000 white people and stops per 1000 african americans to be two normal populations with unknown means and variances.\n",
    "    i. Assuming the variances to be equal, find the 95% confidence interval for the difference in means of the two populations.\n"
   ]
  },
  {
   "cell_type": "code",
   "execution_count": 4,
   "id": "cc4503d7",
   "metadata": {},
   "outputs": [],
   "source": [
    "# import all the relevant libraries\n",
    "import numpy as np\n",
    "import matplotlib.pyplot as plt\n",
    "import pandas as pd\n",
    "import seaborn as sns\n",
    "import tabulate as tb\n"
   ]
  },
  {
   "cell_type": "code",
   "execution_count": 5,
   "id": "e9bc8d34",
   "metadata": {},
   "outputs": [
    {
     "name": "stderr",
     "output_type": "stream",
     "text": [
      "C:\\Users\\USER\\AppData\\Local\\Temp\\ipykernel_14200\\3293555202.py:2: DtypeWarning: Columns (4,6,11,12,13,15,16,17,18,21) have mixed types. Specify dtype option on import or set low_memory=False.\n",
      "  dataset = pd.read_csv('./Datasets/tn_nashville_2020_04_01.csv')\n"
     ]
    }
   ],
   "source": [
    "# imprting the dataset tn_nashville_2020_04_01.csv\n",
    "dataset = pd.read_csv('./Datasets/tn_nashville_2020_04_01.csv')\n"
   ]
  },
  {
   "cell_type": "code",
   "execution_count": 6,
   "id": "c2786dc6",
   "metadata": {},
   "outputs": [
    {
     "name": "stdout",
     "output_type": "stream",
     "text": [
      "Head of the dataset:\n"
     ]
    },
    {
     "data": {
      "text/html": [
       "<div>\n",
       "<style scoped>\n",
       "    .dataframe tbody tr th:only-of-type {\n",
       "        vertical-align: middle;\n",
       "    }\n",
       "\n",
       "    .dataframe tbody tr th {\n",
       "        vertical-align: top;\n",
       "    }\n",
       "\n",
       "    .dataframe thead th {\n",
       "        text-align: right;\n",
       "    }\n",
       "</style>\n",
       "<table border=\"1\" class=\"dataframe\">\n",
       "  <thead>\n",
       "    <tr style=\"text-align: right;\">\n",
       "      <th></th>\n",
       "      <th>date</th>\n",
       "      <th>subject_race</th>\n",
       "    </tr>\n",
       "  </thead>\n",
       "  <tbody>\n",
       "    <tr>\n",
       "      <th>0</th>\n",
       "      <td>10-10-2010</td>\n",
       "      <td>black</td>\n",
       "    </tr>\n",
       "    <tr>\n",
       "      <th>1</th>\n",
       "      <td>10-10-2010</td>\n",
       "      <td>white</td>\n",
       "    </tr>\n",
       "    <tr>\n",
       "      <th>2</th>\n",
       "      <td>10-10-2010</td>\n",
       "      <td>white</td>\n",
       "    </tr>\n",
       "    <tr>\n",
       "      <th>3</th>\n",
       "      <td>10-10-2010</td>\n",
       "      <td>white</td>\n",
       "    </tr>\n",
       "    <tr>\n",
       "      <th>4</th>\n",
       "      <td>10-10-2010</td>\n",
       "      <td>black</td>\n",
       "    </tr>\n",
       "  </tbody>\n",
       "</table>\n",
       "</div>"
      ],
      "text/plain": [
       "         date subject_race\n",
       "0  10-10-2010        black\n",
       "1  10-10-2010        white\n",
       "2  10-10-2010        white\n",
       "3  10-10-2010        white\n",
       "4  10-10-2010        black"
      ]
     },
     "metadata": {},
     "output_type": "display_data"
    },
    {
     "name": "stdout",
     "output_type": "stream",
     "text": [
      "\n",
      "Tail of the dataset:\n"
     ]
    },
    {
     "data": {
      "text/html": [
       "<div>\n",
       "<style scoped>\n",
       "    .dataframe tbody tr th:only-of-type {\n",
       "        vertical-align: middle;\n",
       "    }\n",
       "\n",
       "    .dataframe tbody tr th {\n",
       "        vertical-align: top;\n",
       "    }\n",
       "\n",
       "    .dataframe thead th {\n",
       "        text-align: right;\n",
       "    }\n",
       "</style>\n",
       "<table border=\"1\" class=\"dataframe\">\n",
       "  <thead>\n",
       "    <tr style=\"text-align: right;\">\n",
       "      <th></th>\n",
       "      <th>date</th>\n",
       "      <th>subject_race</th>\n",
       "    </tr>\n",
       "  </thead>\n",
       "  <tbody>\n",
       "    <tr>\n",
       "      <th>1048570</th>\n",
       "      <td>16-10-2017</td>\n",
       "      <td>white</td>\n",
       "    </tr>\n",
       "    <tr>\n",
       "      <th>1048571</th>\n",
       "      <td>16-10-2017</td>\n",
       "      <td>white</td>\n",
       "    </tr>\n",
       "    <tr>\n",
       "      <th>1048572</th>\n",
       "      <td>16-10-2017</td>\n",
       "      <td>hispanic</td>\n",
       "    </tr>\n",
       "    <tr>\n",
       "      <th>1048573</th>\n",
       "      <td>16-10-2017</td>\n",
       "      <td>white</td>\n",
       "    </tr>\n",
       "    <tr>\n",
       "      <th>1048574</th>\n",
       "      <td>16-10-2017</td>\n",
       "      <td>white</td>\n",
       "    </tr>\n",
       "  </tbody>\n",
       "</table>\n",
       "</div>"
      ],
      "text/plain": [
       "               date subject_race\n",
       "1048570  16-10-2017        white\n",
       "1048571  16-10-2017        white\n",
       "1048572  16-10-2017     hispanic\n",
       "1048573  16-10-2017        white\n",
       "1048574  16-10-2017        white"
      ]
     },
     "metadata": {},
     "output_type": "display_data"
    }
   ],
   "source": [
    "# Dropping all columns except date, subject_race\n",
    "dataset =  dataset[['date','subject_race']].copy()\n",
    "# Displaying the head\n",
    "print(\"Head of the dataset:\")\n",
    "display(dataset.head())\n",
    "\n",
    "# Displaying the tail\n",
    "print(\"\\nTail of the dataset:\")\n",
    "display(dataset.tail())"
   ]
  },
  {
   "cell_type": "code",
   "execution_count": 7,
   "id": "edbe7082",
   "metadata": {},
   "outputs": [
    {
     "name": "stdout",
     "output_type": "stream",
     "text": [
      "New dataset with traffic stops by date:\n",
      "        date  White_Stops  Black_Stops\n",
      "0 2010-01-01          148          137\n",
      "1 2010-01-10          610          349\n",
      "2 2010-01-11          749          489\n",
      "3 2010-01-12          676          451\n",
      "4 2010-02-01          359          263\n"
     ]
    }
   ],
   "source": [
    "# making a new dataset with date, number of traffic stops for white people, number of traffic stops for african-americans on that date\n",
    "\n",
    "# Ensure the 'date' and 'subject_race' columns exist and have no missing values\n",
    "dataset = dataset.dropna(subset=['date', 'subject_race'])\n",
    "\n",
    "# Convert the 'date' column to datetime format\n",
    "dataset['date'] = pd.to_datetime(dataset['date'], errors='coerce')\n",
    "\n",
    "# Drop rows with invalid dates\n",
    "dataset = dataset.dropna(subset=['date'])\n",
    "\n",
    "# Filter the dataset by race and count the number of stops for each race per day\n",
    "white_stops = dataset[dataset['subject_race'] == 'white'].groupby('date').size().reset_index(name='White_Stops')\n",
    "black_stops = dataset[dataset['subject_race'] == 'black'].groupby('date').size().reset_index(name='Black_Stops')\n",
    "\n",
    "# Merge the two datasets on the 'date' column\n",
    "stops_by_date = pd.merge(white_stops, black_stops, on='date', how='outer').fillna(0)\n",
    "\n",
    "# Display the resulting dataset\n",
    "print(\"New dataset with traffic stops by date:\")\n",
    "print(stops_by_date.head())"
   ]
  },
  {
   "cell_type": "code",
   "execution_count": 8,
   "id": "bc56e1eb",
   "metadata": {},
   "outputs": [
    {
     "name": "stdout",
     "output_type": "stream",
     "text": [
      "Dataset with stops per 10000 people (Head):\n",
      "+---+------------+-------------+-------------+-----------------------+-----------------------+\n",
      "|   |    date    | White_Stops | Black_Stops | Stops_per_10000_White | Stops_per_10000_Black |\n",
      "+---+------------+-------------+-------------+-----------------------+-----------------------+\n",
      "| 0 | 2010-01-01 |     148     |     137     |  3.8357868546547786   |   7.95355587808418    |\n",
      "| 1 | 2010-01-10 |     610     |     349     |  15.809662036077128   |  20.261248185776488   |\n",
      "| 2 | 2010-01-11 |     749     |     489     |   19.4121915820029    |  28.388969521044995   |\n",
      "| 3 | 2010-01-12 |     676     |     451     |  17.520215633423177   |   26.18287373004354   |\n",
      "| 4 | 2010-02-01 |     359     |     263     |   9.304374870412605   |  15.268505079825834   |\n",
      "+---+------------+-------------+-------------+-----------------------+-----------------------+\n",
      "\n",
      "Dataset with stops per 10000 people (Tail):\n",
      "+-----+------------+-------------+-------------+-----------------------+-----------------------+\n",
      "|     |    date    | White_Stops | Black_Stops | Stops_per_10000_White | Stops_per_10000_Black |\n",
      "+-----+------------+-------------+-------------+-----------------------+-----------------------+\n",
      "| 451 | 2017-12-06 |     323     |     191     |   8.371345635496578   |  11.088534107402033   |\n",
      "| 452 | 2017-12-07 |     619     |     328     |  16.042919344806133   |  19.042089985486214   |\n",
      "| 453 | 2017-12-08 |     233     |     139     |   6.038772548206509   |   8.06966618287373    |\n",
      "| 454 | 2017-12-09 |     317     |     233     |   8.215840763010572   |  13.526850507982584   |\n",
      "| 455 | 2017-12-10 |     438     |     289     |  11.351855691478331   |  16.777939042089987   |\n",
      "+-----+------------+-------------+-------------+-----------------------+-----------------------+\n"
     ]
    }
   ],
   "source": [
    "# Total population = 689,000 ; White population = 689000 x 0.56 = 385,000 ; African-American Population = 172,250\n",
    "    # e. Stops per 10000 white people = (Number of white stops/white population)x1000\n",
    "    # f. Stops per 10000 African-American people = (Number of African American stops/Aferican-American Population)x1000\n",
    "    # g. These two are new attributes which we will use\n",
    "\n",
    "# Define the population sizes\n",
    "total_population = 689000\n",
    "white_population = total_population * 0.56  # 385,000\n",
    "black_population = total_population * 0.25  # 172,250\n",
    "\n",
    "# Calculate stops per 10000 people for each group\n",
    "stops_by_date['Stops_per_10000_White'] = (stops_by_date['White_Stops'] / white_population) * 10000\n",
    "stops_by_date['Stops_per_10000_Black'] = (stops_by_date['Black_Stops'] / black_population) * 10000\n",
    "\n",
    "# Convert the 'date' column to string format with only the date part\n",
    "stops_by_date['date'] = stops_by_date['date'].astype(str)\n",
    "\n",
    "# Display the dataset using tabulate\n",
    "print(\"Dataset with stops per 10000 people (Head):\")\n",
    "print(tb.tabulate(stops_by_date.head(), headers='keys', tablefmt='pretty'))\n",
    "\n",
    "print(\"\\nDataset with stops per 10000 people (Tail):\")\n",
    "print(tb.tabulate(stops_by_date.tail(), headers='keys', tablefmt='pretty'))"
   ]
  },
  {
   "cell_type": "code",
   "execution_count": 9,
   "id": "b1f98a00",
   "metadata": {},
   "outputs": [
    {
     "name": "stdout",
     "output_type": "stream",
     "text": [
      "Mean Stops per 10000 White: 13.21046856982805\n",
      "Mean Stops per 10000 Black: 20.349094797952795\n",
      "Pooled Variance: 46.39728319368809\n",
      "Standard Error of Difference: 0.4511062581173831\n",
      "Degrees of Freedom: 910\n",
      "Critical t-value: 1.9625742877989996\n",
      "Margin of Error: 0.8853295432463948\n",
      "95% Confidence Interval for the Difference in Means: (-8.023955771371138, -6.253296684878349)\n"
     ]
    }
   ],
   "source": [
    "# Assume stops per 10000 white people and stops per 10000 African Americans to be two normal populations with unknown means and variances.\n",
    "# i. Assuming the variances to be equal, find the 95% confidence interval for the difference in means of the two populations.\n",
    "\n",
    "# Step 1: Calculate the means and variances of the two populations\n",
    "mean_white = stops_by_date['Stops_per_10000_White'].mean()\n",
    "mean_black = stops_by_date['Stops_per_10000_Black'].mean()\n",
    "var_white = stops_by_date['Stops_per_10000_White'].var(ddof=1)  # Sample variance\n",
    "var_black = stops_by_date['Stops_per_10000_Black'].var(ddof=1)  # Sample variance\n",
    "\n",
    "# Step 2: Calculate the pooled variance\n",
    "n_white = len(stops_by_date['Stops_per_10000_White'])\n",
    "n_black = len(stops_by_date['Stops_per_10000_Black'])\n",
    "pooled_variance = ((n_white - 1) * var_white + (n_black - 1) * var_black) / (n_white + n_black - 2)\n",
    "\n",
    "# Step 3: Calculate the standard error of the difference in means\n",
    "se_diff = (pooled_variance * (1 / n_white + 1 / n_black)) ** 0.5\n",
    "\n",
    "# Step 4: Calculate the critical t-value for a 95% confidence interval\n",
    "from scipy.stats import t\n",
    "alpha = 0.05\n",
    "df = n_white + n_black - 2\n",
    "t_critical = t.ppf(1 - alpha / 2, df)\n",
    "\n",
    "# Step 5: Calculate the margin of error\n",
    "margin_of_error = t_critical * se_diff\n",
    "\n",
    "# Step 6: Calculate the confidence interval\n",
    "difference_in_means = mean_white - mean_black\n",
    "lower_bound = difference_in_means - margin_of_error\n",
    "upper_bound = difference_in_means + margin_of_error\n",
    "\n",
    "# Display the results\n",
    "print(f\"Mean Stops per 10000 White: {mean_white}\")\n",
    "print(f\"Mean Stops per 10000 Black: {mean_black}\")\n",
    "print(f\"Pooled Variance: {pooled_variance}\")\n",
    "print(f\"Standard Error of Difference: {se_diff}\")\n",
    "print(f\"Degrees of Freedom: {df}\")\n",
    "print(f\"Critical t-value: {t_critical}\")\n",
    "print(f\"Margin of Error: {margin_of_error}\")\n",
    "print(f\"95% Confidence Interval for the Difference in Means: ({lower_bound}, {upper_bound})\")"
   ]
  }
 ],
 "metadata": {
  "kernelspec": {
   "display_name": "base",
   "language": "python",
   "name": "python3"
  },
  "language_info": {
   "codemirror_mode": {
    "name": "ipython",
    "version": 3
   },
   "file_extension": ".py",
   "mimetype": "text/x-python",
   "name": "python",
   "nbconvert_exporter": "python",
   "pygments_lexer": "ipython3",
   "version": "3.12.7"
  }
 },
 "nbformat": 4,
 "nbformat_minor": 5
}
